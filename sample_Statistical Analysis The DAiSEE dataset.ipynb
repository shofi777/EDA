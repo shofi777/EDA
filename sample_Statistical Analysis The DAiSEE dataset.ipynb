{
 "cells": [
  {
   "cell_type": "markdown",
   "id": "burning-thanksgiving",
   "metadata": {},
   "source": [
    "01. The *DAiSEE dataset* is designed data collection where the participants were asked to watch two videos for about 20 minutes in total. \n",
    "This time, we extracted the organic features of the eye gaze, head pose, and Action Units (AUs). \n",
    "We then statistially analysed the extracted features to see the characteristics and distribution of each feature to get an intuition of the which variable are not very important or already represented by other certain variable. "
   ]
  },
  {
   "cell_type": "code",
   "execution_count": 5,
   "id": "blank-wilderness",
   "metadata": {},
   "outputs": [],
   "source": [
    "# %matplotlib notebook \n",
    "%matplotlib inline\n",
    "import seaborn as sns\n",
    "import matplotlib.pyplot as plt\n",
    "from matplotlib import cm\n",
    "import pandas as pd\n",
    "import numpy as np"
   ]
  },
  {
   "cell_type": "code",
   "execution_count": 4,
   "id": "multiple-edition",
   "metadata": {},
   "outputs": [],
   "source": [
    "#load the data set by label\n",
    "path = ('C:/Users/hasegawa-lab-pc/OneDrive - Japan Advanced Institute of Science and Technology/Documents/Dataset/DAiSEE/OpenFace_2.2.0_win_x64/processed/csv/')\n",
    "\n",
    "df_label = pd.read_csv(path+'labels/AllLabels.csv')"
   ]
  },
  {
   "cell_type": "code",
   "execution_count": null,
   "id": "developing-northeast",
   "metadata": {},
   "outputs": [],
   "source": [
    "df_label.head()"
   ]
  },
  {
   "cell_type": "code",
   "execution_count": null,
   "id": "level-lighting",
   "metadata": {},
   "outputs": [],
   "source": [
    "#Frequency tables\n",
    "print(df_label.Engagement.value_counts())\n",
    "print(df_label.Engagement.value_counts().sum())\n",
    "print(df_label.shape)"
   ]
  },
  {
   "cell_type": "code",
   "execution_count": null,
   "id": "subtle-stuff",
   "metadata": {},
   "outputs": [],
   "source": [
    "#locate all the null (missing) label\n",
    "pd.isnull(df_label.Engagement).sum()"
   ]
  },
  {
   "cell_type": "code",
   "execution_count": null,
   "id": "damaged-sydney",
   "metadata": {},
   "outputs": [],
   "source": [
    "sns.boxplot(y=df_label.Engagement).set_title(\"Box plot of the Engagement label\")\n",
    "plt.show()"
   ]
  },
  {
   "cell_type": "code",
   "execution_count": null,
   "id": "secure-barrier",
   "metadata": {},
   "outputs": [],
   "source": [
    "#Replace integer code with a text label\n",
    "Eng_relabel = df_label[\"Engagement\"] = df_label.Engagement.replace({0:\"Very Low\", 1:\"Low\", 2:\"Engaged\", 3:\"Very Engaged\"})\n",
    "print(df_label.Engagement.value_counts())"
   ]
  },
  {
   "cell_type": "code",
   "execution_count": null,
   "id": "sticky-therapy",
   "metadata": {},
   "outputs": [],
   "source": [
    "sns.displot(df_label.Engagement)"
   ]
  },
  {
   "cell_type": "code",
   "execution_count": null,
   "id": "growing-client",
   "metadata": {},
   "outputs": [],
   "source": [
    "#Load a feature sample\n",
    "path_feat = ('C:/Users/hasegawa-lab-pc/OneDrive - Japan Advanced Institute of Science and Technology/Documents/Dataset/DAiSEE/OpenFace_2.2.0_win_x64/processed/csv/')\n",
    "df_feat = pd.read_csv(path_feat+'csv_train/181374016.csv')"
   ]
  },
  {
   "cell_type": "code",
   "execution_count": null,
   "id": "verbal-sterling",
   "metadata": {},
   "outputs": [],
   "source": [
    "df_feat.head()"
   ]
  },
  {
   "cell_type": "code",
   "execution_count": null,
   "id": "applied-sheet",
   "metadata": {},
   "outputs": [],
   "source": [
    "print(df_feat.columns)\n",
    "# remove special character\n",
    "df_feat.columns = df_feat.columns.str.replace(' ', '')\n",
    "for num, col_name in enumerate(df_feat.columns): \n",
    "    print(num,col_name)"
   ]
  },
  {
   "source": [
    "### 1. Eye gaze \n",
    ">> 1.1. Eye gaze direction\n",
    ">> 1.1. Eye gaze in radians\n",
    ">> 1.1. Eye landmark 2D and 3D"
   ],
   "cell_type": "markdown",
   "metadata": {}
  },
  {
   "cell_type": "code",
   "execution_count": null,
   "id": "raised-bearing",
   "metadata": {},
   "outputs": [],
   "source": [
    "#Eye Gaze Direction \n",
    "plt.figure(figsize=(10, 10))\n",
    "ax = plt.axes(projection='3d')\n",
    "\n",
    "ax.plot3D(df_feat.gaze_0_x,df_feat.gaze_0_y,df_feat.gaze_0_z, 'gray')\n",
    "ax.plot3D(df_feat.gaze_1_x,df_feat.gaze_1_y,df_feat.gaze_1_z, 'gray')\n",
    "ax.scatter3D(df_feat.gaze_0_x,df_feat.gaze_0_y,df_feat.gaze_0_z, cmap='Greens')\n",
    "ax.scatter3D(df_feat.gaze_1_x,df_feat.gaze_1_y,df_feat.gaze_1_z, cmap='Blue')\n",
    "\n",
    "ax.set_xlabel(\"gaze_x\")\n",
    "ax.set_ylabel(\"gaze_y\")\n",
    "ax.set_zlabel(\"gaze_z\")\n",
    "plt.show()\n",
    "\n",
    "plt.figure(figsize=(10, 10))\n",
    "sns.histplot(data=df_feat, x=\"gaze_0_x\", color=\"skyblue\", label=\"X-left\", kde=True) #kde for line overlay\n",
    "sns.histplot(data=df_feat, x=\"gaze_0_y\", color=\"red\", label=\"Y-left\", kde=True)\n",
    "sns.histplot(data=df_feat, x=\"gaze_0_z\", color=\"green\", label=\"Z-left\", kde=True)\n",
    "sns.histplot(data=df_feat, x=\"gaze_1_x\", color=\"blue\", label=\"X-Right\", kde=True)\n",
    "sns.histplot(data=df_feat, x=\"gaze_1_y\", color=\"yellow\", label=\"Y-Right\", kde=True)\n",
    "sns.histplot(data=df_feat, x=\"gaze_1_z\", color=\"navy\", label=\"Z-Right\", kde=True)\n",
    "\n",
    "\n",
    "plt.legend() \n",
    "plt.show()\n",
    "\n",
    "#mean left right\n",
    "plt.figure(figsize=(10, 10))\n",
    "gaze_left = np.mean(df_feat.iloc[:,5:7], axis=1)\n",
    "gaze_right = np.mean(df_feat.iloc[:,8:10], axis=1)\n",
    "\n",
    "sns.histplot(data=df_feat, x=gaze_left, color=\"skyblue\", label=\"Mean Gaze Left\", kde=True)\n",
    "sns.histplot(data=df_feat, x=gaze_right, color=\"red\", label=\"Mean Gaze Right\", kde=True)\n",
    "\n",
    "plt.legend() \n",
    "plt.show()\n",
    "\n",
    "#infer: gaze left and right have almost same distribution. so it's possible to use one of them\n",
    "plt.figure(figsize=(10, 10))\n",
    "plt.plot(df_feat.frame,gaze_left, '-o', label=\"Left\")\n",
    "plt.plot(df_feat.frame,gaze_right, '-o', label=\"Right\")\n",
    "plt.xlabel(\"Frame\")\n",
    "plt.ylabel(\"Eye Gaze\")\n",
    "plt.legend() \n",
    "plt.show()\n"
   ]
  },
  {
   "cell_type": "code",
   "execution_count": null,
   "id": "alike-shame",
   "metadata": {},
   "outputs": [],
   "source": [
    "# Eye gaze in radians (angle)\n",
    "plt.figure(figsize=(10, 10))\n",
    "plt.plot(df_feat.gaze_angle_x,df_feat.gaze_angle_y, '-p')\n",
    "plt.xlabel(\"angle_x\")\n",
    "plt.ylabel(\"angle_y\")\n",
    "\n",
    "plt.figure(figsize=(10, 10))\n",
    "eye=sns.jointplot(x=\"gaze_angle_x\",y=\"gaze_angle_y\",kind='kde', data=df_feat)\n",
    "eye = eye.plot(sns.regplot, sns.histplot)\n",
    "\n",
    "plt.figure(figsize=(10, 10))\n",
    "sns.histplot(data=df_feat, x=\"gaze_angle_x\", color=\"skyblue\", label=\"Gaze angle x\", kde=True)\n",
    "sns.histplot(data=df_feat, x=\"gaze_angle_y\", color=\"red\", label=\"Gaze angle y\", kde=True).set_title(\"Histogram of Eye Gaze in Radians\")\n",
    "\n",
    "plt.legend() \n",
    "plt.show()\n",
    "\n",
    "#Plot 3D toward Frame\n",
    "plt.figure(figsize=(10, 10))\n",
    "ax = plt.axes(projection='3d')\n",
    "\n",
    "ax.plot3D(df_feat.frame,df_feat.gaze_angle_x,df_feat.gaze_angle_y, 'gray')\n",
    "ax.scatter3D(df_feat.frame,df_feat.gaze_angle_x,df_feat.gaze_angle_y, cmap='Blue')\n",
    "\n",
    "ax.set_xlabel(\"frame\")\n",
    "ax.set_ylabel(\"x\")\n",
    "ax.set_zlabel(\"y\")\n",
    "plt.show()\n"
   ]
  },
  {
   "cell_type": "code",
   "execution_count": null,
   "id": "boring-auditor",
   "metadata": {},
   "outputs": [],
   "source": [
    "for num, col_name in enumerate(df_feat.columns): \n",
    "    print(num,col_name)"
   ]
  },
  {
   "cell_type": "code",
   "execution_count": null,
   "id": "romantic-formation",
   "metadata": {},
   "outputs": [],
   "source": [
    "#Eye landmark 2D region in pixels\n",
    "#Left eye\n",
    "left_x = df_feat.iloc[:,13:40]\n",
    "left_y = df_feat.iloc[:,69:96]\n",
    "#right eye\n",
    "right_x = df_feat.iloc[:,41:68]\n",
    "right_y = df_feat.iloc[:,97:124]\n",
    "\n",
    "#Plot histogram of left and right eyes\n",
    "plt.figure(figsize=(10, 10))\n",
    "sns.histplot(left_x, label=\"X-left\", kde=True) #kde for line overlay\n",
    "sns.histplot(left_y, label=\"Y-left\", kde=True)\n",
    "plt.xlabel(\"Left Eye Landmark\")\n",
    "\n",
    "#Plot histogram of left and right eyes\n",
    "plt.figure(figsize=(10, 10))\n",
    "sns.histplot(right_x, color=\"skyblue\", label=\"X-left\", kde=True) #kde for line overlay\n",
    "sns.histplot(right_y, color=\"red\", label=\"Y-left\", kde=True)\n",
    "plt.xlabel(\"Right Eye Landmark\")"
   ]
  },
  {
   "cell_type": "code",
   "execution_count": null,
   "id": "cognitive-benefit",
   "metadata": {},
   "outputs": [],
   "source": [
    "#mean of all 55 landmark points\n",
    "eye_left_x = np.mean(df_feat.iloc[:,13:40],axis=1)\n",
    "eye_right_x = np.mean(df_feat.iloc[:,41:68],axis=1)\n",
    "eye_left_y = np.mean(df_feat.iloc[:,69:96],axis=1)\n",
    "eye_right_y = np.mean(df_feat.iloc[:,97:124],axis=1)\n",
    "\n",
    "#Plot histogram of left and right eyes by coordinate\n",
    "plt.figure(figsize=(10, 10))\n",
    "sns.histplot(eye_left_x, color=\"skyblue\", label=\"Eye left x\", kde=True)\n",
    "sns.histplot(eye_right_x, color=\"red\", label=\"Eye right x\", kde=True)\n",
    "sns.histplot(eye_left_y, color=\"yellow\", label=\"Eye left y\", kde=True)\n",
    "sns.histplot(eye_right_y, color=\"green\", label=\"Eye right y\", kde=True).set_title(\"Histogram of 2D Eye Landmark\")\n",
    "plt.legend() \n",
    "plt.show()\n",
    "\n",
    "#Plot histogram of left and right eyes\n",
    "#Left\n",
    "eye_left_x = pd.DataFrame(eye_left_x)\n",
    "eye_left_y = pd.DataFrame(eye_left_y)\n",
    "eye_left = pd.concat([eye_left_x,eye_left_y],axis=1)\n",
    "eye_left = np.mean(eye_left.iloc[:,0:1],axis=1)\n",
    "#Right\n",
    "eye_right_x = pd.DataFrame(eye_right_x)\n",
    "eye_right_y = pd.DataFrame(eye_right_y)\n",
    "eye_right = pd.concat([eye_right_x,eye_right_y],axis=1)\n",
    "eye_right = np.mean(eye_right.iloc[:,0:1],axis=1)\n",
    "\n",
    "plt.figure(figsize=(10, 10))\n",
    "sns.histplot(eye_left, color=\"skyblue\", label=\"Eye left\", kde=True)\n",
    "sns.histplot(eye_right, color=\"red\", label=\"Eye right\", kde=True).set_title(\"Histogram of 2D Eye Landmark (Left-Right Mean)\")\n",
    "plt.legend() \n",
    "plt.show()\n",
    "\n",
    "#Plot toward Frame\n",
    "plt.figure(figsize=(10, 10))\n",
    "plt.plot(df_feat.frame,eye_left, '-o', label=\"Left eye (2D)\")\n",
    "plt.plot(df_feat.frame,eye_right, '-o', label=\"Right eye (2D)\")\n",
    "plt.xlabel(\"Frame\")\n",
    "plt.ylabel(\"2D Eye Landmark (mean)\")\n",
    "plt.legend() \n",
    "plt.show()\n",
    "\n",
    "#Plot 3D toward Frame\n",
    "plt.figure(figsize=(10, 10))\n",
    "ax = plt.axes(projection='3d')\n",
    "\n",
    "ax.plot3D(df_feat.frame,eye_left,eye_right, 'gray')\n",
    "ax.scatter3D(df_feat.frame,eye_left,eye_right, cmap='Blue')\n",
    "\n",
    "ax.set_xlabel(\"frame\")\n",
    "ax.set_ylabel(\"left eye\")\n",
    "ax.set_zlabel(\"right eye\")\n",
    "plt.show()\n",
    "\n",
    "#Plot 2D \n",
    "plt.figure(figsize=(10, 10))\n",
    "plt.plot(eye_left,eye_right, '-p')\n",
    "plt.xlabel(\"left eye\")\n",
    "plt.ylabel(\"right eye\")"
   ]
  },
  {
   "cell_type": "code",
   "execution_count": null,
   "id": "collectible-rebate",
   "metadata": {},
   "outputs": [],
   "source": [
    "for num, col_name in enumerate(df_feat.columns): \n",
    "    print(num,col_name)"
   ]
  },
  {
   "cell_type": "code",
   "execution_count": null,
   "id": "spanish-benjamin",
   "metadata": {},
   "outputs": [],
   "source": [
    "#Eye landmark 3D region in milimiters\n",
    "#Left eye\n",
    "left_X = np.mean(df_feat.iloc[:,125:152],axis=1)\n",
    "left_Y = np.mean(df_feat.iloc[:,181:208],axis=1)\n",
    "left_Z = np.mean(df_feat.iloc[:,237:264],axis=1)\n",
    "\n",
    "# #right eye\n",
    "right_X = np.mean(df_feat.iloc[:,153:180],axis=1)\n",
    "right_Y = np.mean(df_feat.iloc[:,209:236],axis=1)\n",
    "right_Z = np.mean(df_feat.iloc[:,265:292],axis=1)\n",
    "\n",
    "#Plot histogram of left and right eyes\n",
    "plt.figure(figsize=(10, 10))\n",
    "sns.histplot(left_X, label=\"X-left\", color=\"skyblue\", kde=True) #kde for line overlay\n",
    "sns.histplot(left_Y, label=\"Y-left\", color=\"red\", kde=True)\n",
    "sns.histplot(left_Z, label=\"Z-left\", color=\"navy\", kde=True)\n",
    "sns.histplot(right_X, label=\"X-left\", color=\"yellow\", kde=True) #kde for line overlay\n",
    "sns.histplot(right_Y, label=\"Y-left\", color=\"green\", kde=True)\n",
    "sns.histplot(right_Z, label=\"Z-left\", color=\"grey\", kde=True).set_title(\"Histogram of 3D Eye Landmark\")\n",
    "\n",
    "plt.legend() \n",
    "plt.show()\n",
    "\n",
    "#Plot histogram of left and right eyes\n",
    "#Left\n",
    "eye_left_X = pd.DataFrame(left_X)\n",
    "eye_left_Y = pd.DataFrame(left_Y)\n",
    "eye_left_Z = pd.DataFrame(left_Z)\n",
    "eye_left3D = pd.concat([eye_left_X,eye_left_Y,eye_left_Z],axis=1)\n",
    "eye_left3D = np.mean(eye_left3D.iloc[:,0:2],axis=1)\n",
    "#Right\n",
    "eye_right_X = pd.DataFrame(right_X)\n",
    "eye_right_Y = pd.DataFrame(right_Y)\n",
    "eye_right_Z = pd.DataFrame(right_Z)\n",
    "eye_right3D = pd.concat([eye_right_X,eye_right_Y,eye_right_Z],axis=1)\n",
    "eye_right3D = np.mean(eye_right3D.iloc[:,0:1],axis=1)\n",
    "\n",
    "plt.figure(figsize=(10, 10))\n",
    "sns.histplot(eye_left3D, color=\"skyblue\", label=\"Eye left\", kde=True)\n",
    "sns.histplot(eye_right3D, color=\"red\", label=\"Eye right\", kde=True).set_title(\"Histogram of 3D Eye Landmark (Left-Right Mean)\")\n",
    "plt.legend() \n",
    "plt.show()\n",
    "\n",
    "#Plot toward Frame\n",
    "plt.figure(figsize=(10, 10))\n",
    "plt.plot(df_feat.frame,eye_left3D, '-o', label=\"Left eye (3D)\")\n",
    "plt.plot(df_feat.frame,eye_right3D, '-o', label=\"Right eye (3D)\")\n",
    "plt.xlabel(\"Frame\")\n",
    "plt.ylabel(\"2D Eye Landmark (mean)\")\n",
    "plt.legend() \n",
    "plt.show()\n",
    "\n",
    "#Plot 3D toward Frame\n",
    "plt.figure(figsize=(10, 10))\n",
    "ax = plt.axes(projection='3d')\n",
    "\n",
    "ax.plot3D(df_feat.frame,eye_left3D,eye_right3D, 'gray')\n",
    "ax.scatter3D(df_feat.frame,eye_left3D,eye_right, cmap='Blue')\n",
    "\n",
    "ax.set_xlabel(\"frame (3D)\")\n",
    "ax.set_ylabel(\"left eye (3D)\")\n",
    "ax.set_zlabel(\"right eye (3D)\")\n",
    "plt.show()\n",
    "\n",
    "#Plot 2D \n",
    "plt.figure(figsize=(10, 10))\n",
    "plt.plot(eye_left3D,eye_right3D, '-p')\n",
    "plt.xlabel(\"left eye (3D)\")\n",
    "plt.ylabel(\"right eye (3D)\")"
   ]
  },
  {
   "cell_type": "code",
   "execution_count": null,
   "id": "traditional-iceland",
   "metadata": {},
   "outputs": [],
   "source": [
    "# Head Pose: The location of the head with respect to camera in milimeters\n",
    "# Plot scatter\n",
    "plt.figure(figsize=(10,10))\n",
    "ax = plt.axes(projection='3d')\n",
    "\n",
    "ax.plot3D(df_feat.pose_Tx,df_feat.pose_Ty,df_feat.pose_Tz, 'gray')\n",
    "ax.scatter3D(df_feat.pose_Tx,df_feat.pose_Ty,df_feat.pose_Tz, cmap='Greens')\n",
    "ax.set_xlabel(\"Tx\")\n",
    "ax.set_ylabel(\"Ty\")\n",
    "ax.set_zlabel(\"Tz\")\n",
    "\n",
    "plt.figure(figsize=(10, 10))\n",
    "sns.histplot(data=df_feat, x=\"pose_Tx\", color=\"skyblue\", label=\"x coordinate\", kde=True)\n",
    "sns.histplot(data=df_feat, x=\"pose_Ty\", color=\"red\", label=\"y coordinate\", kde=True)\n",
    "sns.histplot(data=df_feat, x=\"pose_Tz\", color=\"green\", label=\"z coordinate\", kde=True)\n",
    "\n",
    "plt.legend() \n",
    "plt.show()\n",
    "\n",
    "#Toward frame\n",
    "plt.figure(figsize=(10, 10))\n",
    "plt.plot(df_feat.frame, df_feat.pose_Tx, label=\"Rx\")\n",
    "plt.plot(df_feat.frame, df_feat.pose_Ty, label=\"Ry\")\n",
    "plt.plot(df_feat.frame, df_feat.pose_Tz, label=\"Rz\")\n",
    "plt.xlabel(\"Frame\")\n",
    "plt.ylabel(\"Coordinate\")\n",
    "plt.legend() \n",
    "plt.show()"
   ]
  },
  {
   "cell_type": "code",
   "execution_count": null,
   "id": "legislative-rider",
   "metadata": {},
   "outputs": [],
   "source": [
    "#Head rotation in radians around X,Y,Z. Pitch (Rx), yaw (Ry), and roll (Rz)\n",
    "plt.figure(figsize=(10,10))\n",
    "ax = plt.axes(projection='3d')\n",
    "\n",
    "ax.plot3D(df_feat.pose_Rx,df_feat.pose_Ry,df_feat.pose_Rz, 'gray')\n",
    "ax.scatter3D(df_feat.pose_Rx,df_feat.pose_Ry,df_feat.pose_Rz, cmap='Greens')\n",
    "\n",
    "ax.set_xlabel(\"Rx\")\n",
    "ax.set_ylabel(\"Ry\")\n",
    "ax.set_zlabel(\"Rz\")\n",
    "plt.show()\n",
    "\n",
    "plt.figure(figsize=(10, 10))\n",
    "sns.histplot(data=df_feat, x=\"pose_Rx\", color=\"skyblue\", label=\"Rx\", kde=True)\n",
    "sns.histplot(data=df_feat, x=\"pose_Ry\", color=\"red\", label=\"Ry\", kde=True)\n",
    "sns.histplot(data=df_feat, x=\"pose_Rz\", color=\"green\", label=\"Rz\", kde=True)\n",
    "\n",
    "plt.legend() \n",
    "plt.show()\n",
    "\n",
    "#Toward frame\n",
    "plt.figure(figsize=(10, 10))\n",
    "plt.plot(df_feat.frame, df_feat.pose_Rx, label=\"Rx\")\n",
    "plt.plot(df_feat.frame, df_feat.pose_Ry, label=\"Ry\")\n",
    "plt.plot(df_feat.frame, df_feat.pose_Rz, label=\"Rz\")\n",
    "plt.xlabel(\"Frame\")\n",
    "plt.ylabel(\"Coordinate\")\n",
    "plt.legend() \n",
    "plt.show()"
   ]
  },
  {
   "cell_type": "code",
   "execution_count": null,
   "id": "cardiovascular-concern",
   "metadata": {},
   "outputs": [],
   "source": [
    "#Head location vs rotation vs frame\n",
    "T_mean = np.mean(df_feat.iloc[:,293:295], axis=1)\n",
    "R_mean = np.mean(df_feat.iloc[:,296:298], axis=1)\n",
    "T_mean\n",
    "\n",
    "plt.figure(figsize=(10, 10))\n",
    "plt.plot(df_feat.frame, T_mean, label=\"Head location\")\n",
    "plt.plot(df_feat.frame, R_mean, label=\"Head rotation\")\n",
    "plt.xlabel(\"Frame\")\n",
    "plt.ylabel(\"Coordinate\")\n",
    "plt.legend() \n",
    "plt.show()\n",
    "\n",
    "# Is it possible to use only one coordinate?"
   ]
  },
  {
   "source": [
    "for num, col_name in enumerate(df_feat.columns): \n",
    "    print(num,col_name)"
   ],
   "cell_type": "code",
   "metadata": {},
   "execution_count": null,
   "outputs": []
  },
  {
   "source": [
    "df_feat.iloc[:,299]"
   ],
   "cell_type": "code",
   "metadata": {},
   "execution_count": null,
   "outputs": []
  },
  {
   "cell_type": "code",
   "execution_count": null,
   "id": "disturbed-therapist",
   "metadata": {},
   "outputs": [],
   "source": [
    "for num, col_name in enumerate(df_feat.columns): \n",
    "    print(num,col_name)"
   ]
  },
  {
   "cell_type": "code",
   "execution_count": null,
   "id": "fourth-relay",
   "metadata": {},
   "outputs": [],
   "source": [
    "AUi"
   ]
  },
  {
   "cell_type": "code",
   "execution_count": null,
   "id": "rapid-blade",
   "metadata": {},
   "outputs": [],
   "source": [
    "# AUs intensity (from 0 to 5)\n",
    "AUi = [\"AU01_r\", \"AU02_r\", \"AU04_r\", \"AU05_r\", \"AU06_r\", \"AU07_r\", \"AU09_r\", \"AU10_r\", \"AU12_r\", \"AU14_r\", \"AU15_r\", \"AU17_r\", \"AU20_r\", \"AU23_r\", \"AU25_r\", \"AU26_r\", \"AU45_r\"]\n",
    "plt.figure(figsize=(20,10))\n",
    "for au in AUi:\n",
    "    label = [au]\n",
    "    for i in range(299,315):\n",
    "        plt.plot(df_feat.frame,df_feat.iloc[:,i], '-o')\n",
    "\n",
    "plt.legend(AUi)\n",
    "plt.xlabel(\"Frame\")\n",
    "plt.ylabel(\"Intesity\")\n",
    "plt.title(\"AU Intensity (from 0 to 5)\")\n",
    "\n"
   ]
  },
  {
   "cell_type": "code",
   "execution_count": null,
   "id": "powerful-sheep",
   "metadata": {
    "scrolled": true
   },
   "outputs": [],
   "source": [
    "AUi_index = list(range(299,315))\n",
    "AUp_index = list(range(316,332))\n",
    "print(AUi_index)\n",
    "print(AUp_index)\n",
    "plt.figure(figsize=(3,3))\n",
    "sns.boxplot(df_feat.iloc[:,333],df_feat.iloc[:,315])"
   ]
  },
  {
   "cell_type": "code",
   "execution_count": null,
   "id": "better-birthday",
   "metadata": {},
   "outputs": [],
   "source": [
    "AUi_index = list(range(299,315))\n",
    "AUp_index = list(range(316,332))\n",
    "# print(AUi_index)\n",
    "# print(AUp_index)\n",
    "for i in range(0,16):\n",
    "    plt.figure(figsize=(3,3))\n",
    "    sns.boxplot(df_feat.iloc[:,AUp_index[i]],df_feat.iloc[:,AUi_index[i]])"
   ]
  },
  {
   "cell_type": "code",
   "execution_count": null,
   "id": "delayed-prince",
   "metadata": {},
   "outputs": [],
   "source": [
    "#AUs Presence (0|1)\n",
    "AUp = [\"AU01_c\", \"AU02_c\", \"AU04_c\", \"AU05_c\", \"AU06_c\", \"AU07_c\", \"AU09_c\", \"AU10_c\", \"AU12_c\", \"AU14_c\", \"AU15_c\", \"AU17_c\", \"AU20_c\", \"AU23_c\", \"AU25_c\", \"AU26_c\", \"AU28_c\", \"AU45_c\"]\n",
    "plt.figure(figsize=(20,10))\n",
    "for aup in AUp:\n",
    "    plt.figure()\n",
    "    sns.boxplot(df_feat.AU01_c,df_feat.AU01_r)\n",
    "    plt.title(aup)\n",
    "#     for i in range(316,333):\n",
    "#         plt.plot(df_feat.frame,df_feat.iloc[:,i], '-')\n",
    "#         sns.histplot(data=df_feat, x=AUp, color=\"skyblue\", label=\"Rx\", kde=True)\n",
    "\n",
    "# plt.legend(AUp)\n",
    "# plt.xlabel(\"Frame\")\n",
    "# # plt.ylabel(\"Presence\")\n",
    "# plt.title(\"AU Presence (0|1)\")"
   ]
  }
 ],
 "metadata": {
  "kernelspec": {
   "display_name": "cuda10.2",
   "language": "python",
   "name": "cuda10.2"
  },
  "language_info": {
   "codemirror_mode": {
    "name": "ipython",
    "version": 3
   },
   "file_extension": ".py",
   "mimetype": "text/x-python",
   "name": "python",
   "nbconvert_exporter": "python",
   "pygments_lexer": "ipython3",
   "version": "3.7.0"
  }
 },
 "nbformat": 4,
 "nbformat_minor": 5
}